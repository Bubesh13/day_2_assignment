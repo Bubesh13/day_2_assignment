{
 "cells": [
  {
   "cell_type": "code",
   "execution_count": 5,
   "metadata": {},
   "outputs": [
    {
     "name": "stdout",
     "output_type": "stream",
     "text": [
      "Sum:\n",
      "100\n"
     ]
    }
   ],
   "source": [
    "# 1st problem\n",
    "num1 = 25\n",
    "num2 = 25\n",
    "if (type(num1) == int or type(num1) == float) and (type(num2) == int or type(num2) == float):\n",
    "    print(\"Sum:\")\n",
    "    if num1 == num2:\n",
    "        print((num1+num2)*2)\n",
    "    else:\n",
    "        print(num1+num2)\n",
    "else:\n",
    "    print(\"Enter the valid \")\n",
    "    "
   ]
  },
  {
   "cell_type": "code",
   "execution_count": 14,
   "metadata": {},
   "outputs": [
    {
     "name": "stdout",
     "output_type": "stream",
     "text": [
      "Profit is 200\n"
     ]
    }
   ],
   "source": [
    "#2nd problem\n",
    "cst_prs = 500\n",
    "sel_prs = 700\n",
    "if cst_prs < sel_prs:\n",
    "    print(\"Profit is\",sel_prs-cst_prs)\n",
    "else:\n",
    "    print(\"Loss is\",cst_prs-sel_prs)\n"
   ]
  },
  {
   "cell_type": "code",
   "execution_count": 19,
   "metadata": {},
   "outputs": [
    {
     "name": "stdout",
     "output_type": "stream",
     "text": [
      "It is a valid triangle\n"
     ]
    }
   ],
   "source": [
    "#3rd problem\n",
    "fst_angl = 35\n",
    "snd_angl = 65\n",
    "thrd_angl = 80\n",
    "if fst_angl != 0 and snd_angl !=0 and thrd_angl != 0:\n",
    "    if fst_angl+snd_angl+thrd_angl == 180:\n",
    "        print(\"It is a valid triangle\")\n",
    "    else:\n",
    "        print(\"It is not a valid triangle\")\n",
    "else:\n",
    "    print(\"No triangle has one angle as 0\")"
   ]
  },
  {
   "cell_type": "code",
   "execution_count": 21,
   "metadata": {},
   "outputs": [
    {
     "name": "stdout",
     "output_type": "stream",
     "text": [
      "The greates number in the list is 654 at the index 1\n"
     ]
    }
   ],
   "source": [
    "#4th problem\n",
    "lst = [35,654,21,153,215]\n",
    "print(\"The greates number in the list is\",max(lst),\"at the index\",lst.index(max(lst)))"
   ]
  },
  {
   "cell_type": "code",
   "execution_count": 1,
   "metadata": {},
   "outputs": [
    {
     "name": "stdout",
     "output_type": "stream",
     "text": [
      "0\n",
      "1\n",
      "1\n",
      "2\n",
      "3\n",
      "5\n",
      "8\n",
      "13\n",
      "21\n",
      "34\n",
      "55\n",
      "89\n",
      "144\n",
      "233\n",
      "377\n",
      "610\n",
      "987\n",
      "1597\n",
      "2584\n",
      "4181\n",
      "6765\n"
     ]
    }
   ],
   "source": [
    "#5th problem\n",
    "trm = 20\n",
    "fst_value = 0\n",
    "snd_value = 1\n",
    "for i in range (trm+1):\n",
    "    if i <= 1:\n",
    "        nxt_value = i\n",
    "    else:\n",
    "        nxt_value = fst_value+snd_value\n",
    "        fst_value,snd_value = snd_value,nxt_value\n",
    "        \n",
    "    print(nxt_value)\n",
    "    "
   ]
  }
 ],
 "metadata": {
  "kernelspec": {
   "display_name": "Python 3",
   "language": "python",
   "name": "python3"
  },
  "language_info": {
   "codemirror_mode": {
    "name": "ipython",
    "version": 3
   },
   "file_extension": ".py",
   "mimetype": "text/x-python",
   "name": "python",
   "nbconvert_exporter": "python",
   "pygments_lexer": "ipython3",
   "version": "3.7.4"
  }
 },
 "nbformat": 4,
 "nbformat_minor": 2
}
