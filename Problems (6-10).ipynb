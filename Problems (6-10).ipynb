{
 "cells": [
  {
   "cell_type": "code",
   "execution_count": 11,
   "metadata": {},
   "outputs": [
    {
     "name": "stdout",
     "output_type": "stream",
     "text": [
      "PythOn smAplE strIng\n"
     ]
    }
   ],
   "source": [
    "#6th problem\n",
    "str = \"Python smaple string\"\n",
    "lst = []\n",
    "for item in str:\n",
    "    if item == 'a' or item == 'e' or item == 'i' or item == 'o' or item == 'u':\n",
    "        s = item.upper()\n",
    "        lst.append(s)\n",
    "    else:\n",
    "        lst.append(item)\n",
    "print(\"\".join(lst))"
   ]
  },
  {
   "cell_type": "code",
   "execution_count": 51,
   "metadata": {},
   "outputs": [
    {
     "name": "stdout",
     "output_type": "stream",
     "text": [
      "Invalid floating point integer\n"
     ]
    }
   ],
   "source": [
    "#7th problem\n",
    "flt = 0.2656\n",
    "if (flt//1 == 0) or (flt%1 == 0):\n",
    "    print(\"Invalid floating point integer\")\n",
    "else:\n",
    "    print(\"Valid floating point integer\")\n"
   ]
  },
  {
   "cell_type": "code",
   "execution_count": 53,
   "metadata": {},
   "outputs": [
    {
     "name": "stdout",
     "output_type": "stream",
     "text": [
      "[11, 22, 33]\n",
      "[44, 55, 66]\n",
      "[77, 88, 99]\n"
     ]
    }
   ],
   "source": [
    "#8th problem\n",
    "a = [[10,20,30], [40,50,60], [70,80,90]] \n",
    "b = [[1,2,3], [4,5,6], [7,8,9]]\n",
    "sum = [[0,0,0],[0,0,0],[0,0,0]]\n",
    "for i in range (len(a)):\n",
    "    for j in range (len(a[i])):\n",
    "        sum[i][j] = a[i][j]+b[i][j]\n",
    "for i in sum :\n",
    "    print(i)"
   ]
  },
  {
   "cell_type": "code",
   "execution_count": 55,
   "metadata": {},
   "outputs": [
    {
     "name": "stdout",
     "output_type": "stream",
     "text": [
      "Counter({10: 3, 20: 2, 30: 1})\n"
     ]
    }
   ],
   "source": [
    "#9th problem\n",
    "from collections import Counter\n",
    "inpt = [10,10,20,10,30,20]\n",
    "count = Counter(inpt)\n",
    "print(count)\n"
   ]
  },
  {
   "cell_type": "code",
   "execution_count": 128,
   "metadata": {},
   "outputs": [
    {
     "name": "stdout",
     "output_type": "stream",
     "text": [
      "{'C': 'A,B', 'F': 'C,E,F', 'E': 'D'}\n"
     ]
    }
   ],
   "source": [
    "#10th problem-a\n",
    "inpt = { \"A\":\"C\" , \"B\":\"C\" , \"C\":\"F\" , \"D\":\"E\" , \"E\":\"F\" , \"F\":\"F\" } \n",
    "output = {}\n",
    "for key,value in inpt.items():\n",
    "    if value in output:\n",
    "        output[value] = output[value]+','+key\n",
    "    else:\n",
    "        output[value] = key\n",
    "print(output)\n"
   ]
  },
  {
   "cell_type": "code",
   "execution_count": 214,
   "metadata": {},
   "outputs": [
    {
     "name": "stdout",
     "output_type": "stream",
     "text": [
      "{'a': 20, 'b': 30, 'd': 40, 'e': 50}\n"
     ]
    }
   ],
   "source": [
    "#10th problem-b\n",
    "d1 = {'a':100, 'b':200, 'c':300} \n",
    "d2 = {'a':20, 'b':30, 'd':40, 'e':50} \n",
    "d3 = {}\n",
    "for key in d2:\n",
    "    if key in d1:\n",
    "        d3.setdefault(key,(d1[key]+d2[key]))\n",
    "    else:\n",
    "        d3.setdefault('key',value)\n",
    "print(d2)"
   ]
  }
 ],
 "metadata": {
  "kernelspec": {
   "display_name": "Python 3",
   "language": "python",
   "name": "python3"
  },
  "language_info": {
   "codemirror_mode": {
    "name": "ipython",
    "version": 3
   },
   "file_extension": ".py",
   "mimetype": "text/x-python",
   "name": "python",
   "nbconvert_exporter": "python",
   "pygments_lexer": "ipython3",
   "version": "3.7.4"
  }
 },
 "nbformat": 4,
 "nbformat_minor": 2
}
