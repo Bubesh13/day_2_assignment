{
 "cells": [
  {
   "cell_type": "code",
   "execution_count": 13,
   "metadata": {},
   "outputs": [
    {
     "name": "stdout",
     "output_type": "stream",
     "text": [
      "Invalid third string\n"
     ]
    }
   ],
   "source": [
    "#16th problem\n",
    "str1 = 'abc'\n",
    "str2 = 'def'\n",
    "str3 = 'abdecf'\n",
    "if len(str3) == len(str1)+len(str2):\n",
    "    for i in str3:\n",
    "        if i in str1 or i in str2:\n",
    "            print(\"Valid shuffle of the two strings\")\n",
    "        else:\n",
    "            print(\"Invalid shuffel of the two strings\")\n",
    "else:\n",
    "    print(\"Invalid third string\")"
   ]
  },
  {
   "cell_type": "code",
   "execution_count": 9,
   "metadata": {},
   "outputs": [
    {
     "name": "stdout",
     "output_type": "stream",
     "text": [
      "Counter({'the': 4, 'cache': 3, 'source': 3, 'Python': 2, 'has': 2, 'metadata': 2, 'in': 2, 'file': 2, 'build': 2, 'traditionally': 1, 'checked': 1, 'up-to-dateness': 1, 'of': 1, 'bytecode': 1, 'files': 1, 'by': 1, 'comparing': 1, 'with': 1, 'saved': 1, 'header': 1, 'when': 1, 'it': 1, 'was': 1, 'generated.': 1, 'While': 1, 'effective,': 1, 'this': 1, 'invalidation': 1, 'method': 1, 'its': 1, 'drawbacks.': 1, 'When': 1, 'filesystem': 1, 'timestamps': 1, 'are': 1, 'too': 1, 'coarse,': 1, 'can': 1, 'miss': 1, 'updates,': 1, 'leading': 1, 'to': 1, 'user': 1, 'confusion.': 1, 'Additionally,': 1, 'having': 1, 'a': 1, 'timestamp': 1, 'is': 1, 'problematic': 1, 'for': 1, 'reproducibility': 1, 'and': 1, 'content-based': 1, 'systems.': 1})\n"
     ]
    }
   ],
   "source": [
    "#17th problem\n",
    "from collections import Counter\n",
    "inpt_wrd = 'Python has traditionally checked the up-to-dateness of bytecode cache files by comparing the source metadata with source metadata saved in the cache file header when it was generated. While effective, this invalidation method has its drawbacks. When filesystem timestamps are too coarse, Python can miss source updates, leading to user confusion. Additionally, having a timestamp in the cache file is problematic for build reproducibility and content-based build systems.'\n",
    "lst = inpt_wrd.split()\n",
    "dict = Counter(lst)\n",
    "print(dict)\n"
   ]
  },
  {
   "cell_type": "code",
   "execution_count": null,
   "metadata": {},
   "outputs": [],
   "source": [
    "# sry sir i didnt get the 18th problem..."
   ]
  },
  {
   "cell_type": "code",
   "execution_count": null,
   "metadata": {},
   "outputs": [],
   "source": [
    "#19th problem\n",
    "fp1 = ('test1.txt','r')\n",
    "fp2 = ('test2.txt','r')\n",
    "fp3 = ('test3.txt','w+')\n",
    "for line in fp1:\n",
    "    fp3.write(line)\n",
    "for line in fp2:\n",
    "    fp3.write(line)\n",
    "fp3.seek(0,0)\n",
    "print(fp3.read())\n",
    "fp1.close()\n",
    "fp2.close()\n",
    "fp2.close()\n"
   ]
  },
  {
   "cell_type": "code",
   "execution_count": null,
   "metadata": {},
   "outputs": [],
   "source": [
    "#20th problem\n",
    "fp1 = ('test1.txt','r')\n",
    "fp2 = ('test2.txt','a+')\n",
    "for line in fp1:\n",
    "    if line.isspace():\n",
    "        pass\n",
    "    else:\n",
    "        fp3.write(line)\n",
    "fp2.seek(0,0)\n",
    "fp1.close()\n",
    "fp2.close()"
   ]
  }
 ],
 "metadata": {
  "kernelspec": {
   "display_name": "Python 3",
   "language": "python",
   "name": "python3"
  },
  "language_info": {
   "codemirror_mode": {
    "name": "ipython",
    "version": 3
   },
   "file_extension": ".py",
   "mimetype": "text/x-python",
   "name": "python",
   "nbconvert_exporter": "python",
   "pygments_lexer": "ipython3",
   "version": "3.7.4"
  }
 },
 "nbformat": 4,
 "nbformat_minor": 2
}
