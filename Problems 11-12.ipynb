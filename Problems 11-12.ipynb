{
 "cells": [
  {
   "cell_type": "code",
   "execution_count": 38,
   "metadata": {},
   "outputs": [
    {
     "name": "stdout",
     "output_type": "stream",
     "text": [
      "3 : 25 : 45\n"
     ]
    }
   ],
   "source": [
    "#11th problem\n",
    "num = 12345\n",
    "hrs = num // 3600\n",
    "num %= 3600\n",
    "min = num // 60\n",
    "num %= 60\n",
    "print(hrs,':',min,':',num)"
   ]
  },
  {
   "cell_type": "code",
   "execution_count": 54,
   "metadata": {},
   "outputs": [
    {
     "name": "stdout",
     "output_type": "stream",
     "text": [
      "5000.18\n",
      "3000.18\n",
      "450.18\n"
     ]
    }
   ],
   "source": [
    "#12th problem\n",
    "dic1 = {\"A\":2500,\"B\":1000,\"C\":500,\"D\":450} \n",
    "dic2 = {\"A\":2, \"B\":3, \"D\":1}\n",
    "tax_percent = 18\n",
    "for key in dic1:\n",
    "    if key in dic1 and key in dic2:\n",
    "        cost = (dic1[key]*dic2[key])+(tax_percent/100)\n",
    "        print(cost)\n",
    "    else:\n",
    "        pass\n",
    "    "
   ]
  },
  {
   "cell_type": "code",
   "execution_count": null,
   "metadata": {},
   "outputs": [],
   "source": [
    "#13th problem\n",
    "dict =  {'username': 'ABC', 'channel':{'Id' : 101,'name': 'XYZ'}}\n",
    "dict2 = {}\n",
    "for key in dict:\n",
    "    "
   ]
  }
 ],
 "metadata": {
  "kernelspec": {
   "display_name": "Python 3",
   "language": "python",
   "name": "python3"
  },
  "language_info": {
   "codemirror_mode": {
    "name": "ipython",
    "version": 3
   },
   "file_extension": ".py",
   "mimetype": "text/x-python",
   "name": "python",
   "nbconvert_exporter": "python",
   "pygments_lexer": "ipython3",
   "version": "3.7.4"
  }
 },
 "nbformat": 4,
 "nbformat_minor": 2
}
