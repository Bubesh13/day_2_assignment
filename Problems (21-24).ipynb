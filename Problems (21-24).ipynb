{
 "cells": [
  {
   "cell_type": "code",
   "execution_count": null,
   "metadata": {},
   "outputs": [],
   "source": [
    "#21st problem\n",
    "fp1 = open(\"test1.txt\",'r')\n",
    "fp2 = open(\"test2.txt\",'r')\n",
    "fp3 = open(\"test3.txt\",'a+')\n",
    "for line1,line2 in zip(fp1,fp2):\n",
    "    fp3.write(fp1+fp2)\n",
    "fp1.close()\n",
    "fp2.close()\n",
    "fp3.close()\n"
   ]
  },
  {
   "cell_type": "code",
   "execution_count": 50,
   "metadata": {},
   "outputs": [
    {
     "name": "stdout",
     "output_type": "stream",
     "text": [
      "Valid support ticket number\n"
     ]
    }
   ],
   "source": [
    "#22nd problem\n",
    "import re\n",
    "tkt = \"INC12K35\"\n",
    "regx = '^[INC]{3}[0-9A-Z]{5}$'\n",
    "if len(tkt)>8 or len(tkt)<8:\n",
    "    print(\"Invalid support ticket number\")\n",
    "else:\n",
    "    if re.search(regx,tkt):\n",
    "        print(\"Valid support ticket number\")\n",
    "    else:\n",
    "        print(\"Invalid supprot ticket number\")"
   ]
  },
  {
   "cell_type": "code",
   "execution_count": 53,
   "metadata": {},
   "outputs": [
    {
     "name": "stdout",
     "output_type": "stream",
     "text": [
      "Valid password\n"
     ]
    }
   ],
   "source": [
    "#23rd problem\n",
    "import re\n",
    "pswd = 'asdS1233##'\n",
    "regx = '[a-z0-9A-z][!,@,#,$,%,^,&,*,\\,/]'\n",
    "if len(pswd)<6 or len(pswd)>12:\n",
    "    print(\"Invalid password\")\n",
    "else:\n",
    "    if re.search(regx,pswd):\n",
    "        print(\"Valid password\")\n",
    "    else:\n",
    "        print(\"Invalid password\")"
   ]
  },
  {
   "cell_type": "code",
   "execution_count": 73,
   "metadata": {},
   "outputs": [
    {
     "name": "stdout",
     "output_type": "stream",
     "text": [
      "Valid phone number\n"
     ]
    }
   ],
   "source": [
    "#24th problem\n",
    "import re\n",
    "phn_num = '+141-254465195'\n",
    "regx = ''+'[0-9]\\-[0-9]'\n",
    "if len(phn_num)>19:\n",
    "    print(\"Invalid Phone Number\")\n",
    "else:\n",
    "    if re.search(regx,phn_num):\n",
    "        print(\"Valid phone number\")\n",
    "    else:\n",
    "        print(\"Invalid phone number\")\n"
   ]
  }
 ],
 "metadata": {
  "kernelspec": {
   "display_name": "Python 3",
   "language": "python",
   "name": "python3"
  },
  "language_info": {
   "codemirror_mode": {
    "name": "ipython",
    "version": 3
   },
   "file_extension": ".py",
   "mimetype": "text/x-python",
   "name": "python",
   "nbconvert_exporter": "python",
   "pygments_lexer": "ipython3",
   "version": "3.7.4"
  }
 },
 "nbformat": 4,
 "nbformat_minor": 2
}
